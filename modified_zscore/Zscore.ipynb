{
 "cells": [
  {
   "cell_type": "code",
   "execution_count": 37,
   "id": "375c7ad4-d5d0-4488-9b7c-4b18cdae8ff6",
   "metadata": {},
   "outputs": [],
   "source": [
    "import pandas as pd \n",
    "import numpy as np"
   ]
  },
  {
   "cell_type": "code",
   "execution_count": 38,
   "id": "80f1b248-42cf-4605-a3c2-cb454e44c1da",
   "metadata": {},
   "outputs": [],
   "source": [
    "df = pd.read_csv('movie_revenues.csv')"
   ]
  },
  {
   "cell_type": "code",
   "execution_count": 39,
   "id": "4d2d5beb-9e2c-47a7-b877-594a59d8b075",
   "metadata": {},
   "outputs": [],
   "source": [
    "df['revenue'] = df['revenue']/1000000\n",
    "df.rename(columns = {'revenue':'revenue_by_million'}, inplace=True)"
   ]
  },
  {
   "cell_type": "code",
   "execution_count": 40,
   "id": "b655042b-adbe-4fb8-86df-a6ee813fc15a",
   "metadata": {},
   "outputs": [],
   "source": [
    "median = np.median(df.revenue_by_million)"
   ]
  },
  {
   "cell_type": "code",
   "execution_count": 41,
   "id": "22b7a710-5dc6-46f5-ad8a-fda4afd62d34",
   "metadata": {},
   "outputs": [],
   "source": [
    "df['median_diff'] = df.revenue_by_million.apply(lambda x: abs(median-x))"
   ]
  },
  {
   "cell_type": "code",
   "execution_count": 46,
   "id": "fe5993c8-4ba0-4e3b-a6c3-28852dd5bce0",
   "metadata": {},
   "outputs": [],
   "source": [
    "MAD = np.median(df['median_diff'])"
   ]
  },
  {
   "cell_type": "code",
   "execution_count": 47,
   "id": "0221fe11-7012-4180-b22e-5f7038d08407",
   "metadata": {},
   "outputs": [
    {
     "data": {
      "text/plain": [
       "np.float64(56.399542499999995)"
      ]
     },
     "execution_count": 47,
     "metadata": {},
     "output_type": "execute_result"
    }
   ],
   "source": [
    "MAD"
   ]
  },
  {
   "cell_type": "code",
   "execution_count": 48,
   "id": "cec20b18-37c8-4fb6-8f38-2eafad6a7189",
   "metadata": {},
   "outputs": [],
   "source": [
    "def get_modified_zscore(x):\n",
    "    return 0.6745*(x-median)/MAD"
   ]
  },
  {
   "cell_type": "code",
   "execution_count": 49,
   "id": "d1ab84a8-34fb-4dae-8287-ef47cb8ab734",
   "metadata": {},
   "outputs": [],
   "source": [
    "df['modified_z_score'] = df.revenue_by_million.apply(lambda x: get_modified_zscore(x))"
   ]
  },
  {
   "cell_type": "code",
   "execution_count": 50,
   "id": "4ef8436e-762c-4cb4-ad96-e1da39492ff7",
   "metadata": {},
   "outputs": [
    {
     "data": {
      "text/plain": [
       "0     32.339762\n",
       "1      0.557474\n",
       "2     -0.667434\n",
       "3     -0.992204\n",
       "4      1.819125\n",
       "5     -0.369963\n",
       "6      1.911337\n",
       "7     17.098375\n",
       "8      0.142212\n",
       "9      0.797287\n",
       "10    -0.865269\n",
       "11     0.394052\n",
       "12     3.912964\n",
       "13    -0.990753\n",
       "14    -0.564172\n",
       "15    -0.972164\n",
       "16    -0.275977\n",
       "17     2.754959\n",
       "18    -0.504758\n",
       "19    -0.933856\n",
       "20    -0.962639\n",
       "21     0.399177\n",
       "22     0.681566\n",
       "23    -0.884577\n",
       "24    -0.736899\n",
       "25     0.289210\n",
       "26     1.008775\n",
       "27    -0.038727\n",
       "28    -0.488468\n",
       "29     0.038727\n",
       "30    -0.616729\n",
       "31     0.501228\n",
       "32     0.327852\n",
       "33    -0.519883\n",
       "34    -0.635808\n",
       "35    -0.755492\n",
       "36     3.329409\n",
       "37    -0.420349\n",
       "38    -0.954558\n",
       "39     0.918297\n",
       "40     0.164763\n",
       "41    -0.734505\n",
       "42     0.175000\n",
       "43     3.034831\n",
       "44     0.193536\n",
       "45    -0.629883\n",
       "Name: modified_z_score, dtype: float64"
      ]
     },
     "execution_count": 50,
     "metadata": {},
     "output_type": "execute_result"
    }
   ],
   "source": [
    "df['modified_z_score']"
   ]
  },
  {
   "cell_type": "code",
   "execution_count": null,
   "id": "dce941fe-08dc-43ca-ac53-0f66e053e698",
   "metadata": {},
   "outputs": [],
   "source": []
  }
 ],
 "metadata": {
  "kernelspec": {
   "display_name": "Python 3 (ipykernel)",
   "language": "python",
   "name": "python3"
  },
  "language_info": {
   "codemirror_mode": {
    "name": "ipython",
    "version": 3
   },
   "file_extension": ".py",
   "mimetype": "text/x-python",
   "name": "python",
   "nbconvert_exporter": "python",
   "pygments_lexer": "ipython3",
   "version": "3.11.9"
  }
 },
 "nbformat": 4,
 "nbformat_minor": 5
}
